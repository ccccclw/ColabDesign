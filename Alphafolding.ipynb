{
  "nbformat": 4,
  "nbformat_minor": 0,
  "metadata": {
    "colab": {
      "provenance": [],
      "authorship_tag": "ABX9TyMekAuezg/uY2ZS27KOBLN+",
      "include_colab_link": true
    },
    "kernelspec": {
      "name": "python3",
      "display_name": "Python 3"
    },
    "language_info": {
      "name": "python"
    }
  },
  "cells": [
    {
      "cell_type": "markdown",
      "metadata": {
        "id": "view-in-github",
        "colab_type": "text"
      },
      "source": [
        "<a href=\"https://colab.research.google.com/github/ccccclw/ColabDesign/blob/main/Alphafolding.ipynb\" target=\"_parent\"><img src=\"https://colab.research.google.com/assets/colab-badge.svg\" alt=\"Open In Colab\"/></a>"
      ]
    },
    {
      "cell_type": "code",
      "execution_count": null,
      "metadata": {
        "id": "k2xPq1l2LTeD"
      },
      "outputs": [],
      "source": [
        "# prompt: import all libraries needed for deep learning project using jax\n",
        "\n",
        "!pip install jax\n",
        "!pip install flax\n",
        "!pip install tensorflow_datasets\n",
        "!pip install optax\n"
      ]
    }
  ]
}